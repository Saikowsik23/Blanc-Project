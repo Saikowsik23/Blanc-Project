{
 "cells": [
  {
   "cell_type": "code",
   "execution_count": 2,
   "id": "633cb2e5",
   "metadata": {},
   "outputs": [],
   "source": [
    "import dash\n",
    "from dash import dcc\n",
    "from dash import html\n",
    "from dash.dependencies import Input, Output\n",
    "import pandas as pd\n",
    "import plotly.express as px"
   ]
  },
  {
   "cell_type": "code",
   "execution_count": 5,
   "id": "057ac798",
   "metadata": {},
   "outputs": [],
   "source": [
    "fiscal_df=pd.read_csv(\"data/raw_data.csv\")\n",
    "gpd_df=pd.read_csv(\"data/total-confirmed-cases-of-covid-19-per-million-people-vs-gdp-per-capita.csv\")"
   ]
  },
  {
   "cell_type": "code",
   "execution_count": 6,
   "id": "ac5e4c5d",
   "metadata": {},
   "outputs": [],
   "source": [
    "columns_to_drop = ['Code', 'Total confirmed cases of COVID-19 per million people', 'year']\n",
    "\n",
    "# Create a new DataFrame with selected columns dropped\n",
    "gdp_cleaned = gpd_df.drop(columns=columns_to_drop, )\n",
    "gdp_cleaned = gdp_cleaned.rename(columns={'Entity': 'country'})\n",
    "# Save the cleaned dataset to a new CSV file\n",
    "gdp_cleaned.to_csv('gdp_cleaned.csv', index=False)"
   ]
  },
  {
   "cell_type": "code",
   "execution_count": 7,
   "id": "d047c5ea",
   "metadata": {},
   "outputs": [],
   "source": [
    "columns_to_drop = ['geoid', 'iso', 'id', 'sectorial', 'inkind', 'creditin', 'offbudget', 'policyrate', 'cash']\n",
    "\n",
    "# Create a new DataFrame with selected columns dropped\n",
    "fiscal_cleaned = fiscal_df.drop(columns=columns_to_drop)\n",
    "\n",
    "# Save the cleaned dataset to a new CSV file\n",
    "fiscal_cleaned.to_csv('fiscal_cleaned.csv', index=False)"
   ]
  },
  {
   "cell_type": "code",
   "execution_count": 8,
   "id": "6b9b9892",
   "metadata": {},
   "outputs": [
    {
     "ename": "OSError",
     "evalue": "Address 'http://127.0.0.1:8050' already in use.\n    Try passing a different port to run_server.",
     "output_type": "error",
     "traceback": [
      "\u001b[1;31m---------------------------------------------------------------------------\u001b[0m",
      "\u001b[1;31mOSError\u001b[0m                                   Traceback (most recent call last)",
      "\u001b[1;32mc:\\Users\\AKSHITA RAI\\OneDrive\\Desktop\\Blanc Project\\cleaning.ipynb Cell 5\u001b[0m line \u001b[0;36m<cell line: 35>\u001b[1;34m()\u001b[0m\n\u001b[0;32m     <a href='vscode-notebook-cell:/c%3A/Users/AKSHITA%20RAI/OneDrive/Desktop/Blanc%20Project/cleaning.ipynb#W4sZmlsZQ%3D%3D?line=32'>33</a>\u001b[0m     \u001b[39mreturn\u001b[39;00m fig\n\u001b[0;32m     <a href='vscode-notebook-cell:/c%3A/Users/AKSHITA%20RAI/OneDrive/Desktop/Blanc%20Project/cleaning.ipynb#W4sZmlsZQ%3D%3D?line=34'>35</a>\u001b[0m \u001b[39mif\u001b[39;00m \u001b[39m__name__\u001b[39m \u001b[39m==\u001b[39m \u001b[39m'\u001b[39m\u001b[39m__main__\u001b[39m\u001b[39m'\u001b[39m:\n\u001b[1;32m---> <a href='vscode-notebook-cell:/c%3A/Users/AKSHITA%20RAI/OneDrive/Desktop/Blanc%20Project/cleaning.ipynb#W4sZmlsZQ%3D%3D?line=35'>36</a>\u001b[0m     app\u001b[39m.\u001b[39;49mrun_server(debug\u001b[39m=\u001b[39;49m\u001b[39mTrue\u001b[39;49;00m)\n",
      "File \u001b[1;32mc:\\Users\\AKSHITA RAI\\anaconda3\\lib\\site-packages\\dash\\dash.py:2098\u001b[0m, in \u001b[0;36mDash.run_server\u001b[1;34m(self, *args, **kwargs)\u001b[0m\n\u001b[0;32m   2092\u001b[0m \u001b[39mdef\u001b[39;00m \u001b[39mrun_server\u001b[39m(\u001b[39mself\u001b[39m, \u001b[39m*\u001b[39margs, \u001b[39m*\u001b[39m\u001b[39m*\u001b[39mkwargs):\n\u001b[0;32m   2093\u001b[0m     \u001b[39m\"\"\"`run_server` is a deprecated alias of `run` and may be removed in a\u001b[39;00m\n\u001b[0;32m   2094\u001b[0m \u001b[39m    future version. We recommend using `app.run` instead.\u001b[39;00m\n\u001b[0;32m   2095\u001b[0m \n\u001b[0;32m   2096\u001b[0m \u001b[39m    See `app.run` for usage information.\u001b[39;00m\n\u001b[0;32m   2097\u001b[0m \u001b[39m    \"\"\"\u001b[39;00m\n\u001b[1;32m-> 2098\u001b[0m     \u001b[39mself\u001b[39m\u001b[39m.\u001b[39mrun(\u001b[39m*\u001b[39margs, \u001b[39m*\u001b[39m\u001b[39m*\u001b[39mkwargs)\n",
      "File \u001b[1;32mc:\\Users\\AKSHITA RAI\\anaconda3\\lib\\site-packages\\dash\\dash.py:1996\u001b[0m, in \u001b[0;36mDash.run\u001b[1;34m(self, host, port, proxy, debug, jupyter_mode, jupyter_width, jupyter_height, jupyter_server_url, dev_tools_ui, dev_tools_props_check, dev_tools_serve_dev_bundles, dev_tools_hot_reload, dev_tools_hot_reload_interval, dev_tools_hot_reload_watch_interval, dev_tools_hot_reload_max_retry, dev_tools_silence_routes_logging, dev_tools_prune_errors, **flask_run_options)\u001b[0m\n\u001b[0;32m   1993\u001b[0m             extra_files\u001b[39m.\u001b[39mappend(path)\n\u001b[0;32m   1995\u001b[0m \u001b[39mif\u001b[39;00m jupyter_dash\u001b[39m.\u001b[39mactive:\n\u001b[1;32m-> 1996\u001b[0m     jupyter_dash\u001b[39m.\u001b[39;49mrun_app(\n\u001b[0;32m   1997\u001b[0m         \u001b[39mself\u001b[39;49m,\n\u001b[0;32m   1998\u001b[0m         mode\u001b[39m=\u001b[39;49mjupyter_mode,\n\u001b[0;32m   1999\u001b[0m         width\u001b[39m=\u001b[39;49mjupyter_width,\n\u001b[0;32m   2000\u001b[0m         height\u001b[39m=\u001b[39;49mjupyter_height,\n\u001b[0;32m   2001\u001b[0m         host\u001b[39m=\u001b[39;49mhost,\n\u001b[0;32m   2002\u001b[0m         port\u001b[39m=\u001b[39;49mport,\n\u001b[0;32m   2003\u001b[0m         server_url\u001b[39m=\u001b[39;49mjupyter_server_url,\n\u001b[0;32m   2004\u001b[0m     )\n\u001b[0;32m   2005\u001b[0m \u001b[39melse\u001b[39;00m:\n\u001b[0;32m   2006\u001b[0m     \u001b[39mself\u001b[39m\u001b[39m.\u001b[39mserver\u001b[39m.\u001b[39mrun(host\u001b[39m=\u001b[39mhost, port\u001b[39m=\u001b[39mport, debug\u001b[39m=\u001b[39mdebug, \u001b[39m*\u001b[39m\u001b[39m*\u001b[39mflask_run_options)\n",
      "File \u001b[1;32mc:\\Users\\AKSHITA RAI\\anaconda3\\lib\\site-packages\\dash\\_jupyter.py:401\u001b[0m, in \u001b[0;36mJupyterDash.run_app\u001b[1;34m(self, app, mode, width, height, host, port, server_url)\u001b[0m\n\u001b[0;32m    399\u001b[0m     display(HTML(msg))\n\u001b[0;32m    400\u001b[0m \u001b[39melse\u001b[39;00m:\n\u001b[1;32m--> 401\u001b[0m     \u001b[39mraise\u001b[39;00m final_error\n",
      "File \u001b[1;32mc:\\Users\\AKSHITA RAI\\anaconda3\\lib\\site-packages\\dash\\_jupyter.py:388\u001b[0m, in \u001b[0;36mJupyterDash.run_app\u001b[1;34m(self, app, mode, width, height, host, port, server_url)\u001b[0m\n\u001b[0;32m    385\u001b[0m         \u001b[39mraise\u001b[39;00m err\n\u001b[0;32m    387\u001b[0m \u001b[39mtry\u001b[39;00m:\n\u001b[1;32m--> 388\u001b[0m     wait_for_app()\n\u001b[0;32m    390\u001b[0m     \u001b[39mif\u001b[39;00m \u001b[39mself\u001b[39m\u001b[39m.\u001b[39min_colab:\n\u001b[0;32m    391\u001b[0m         JupyterDash\u001b[39m.\u001b[39m_display_in_colab(dashboard_url, port, mode, width, height)\n",
      "File \u001b[1;32mc:\\Users\\AKSHITA RAI\\anaconda3\\lib\\site-packages\\retrying.py:56\u001b[0m, in \u001b[0;36mretry.<locals>.wrap.<locals>.wrapped_f\u001b[1;34m(*args, **kw)\u001b[0m\n\u001b[0;32m     54\u001b[0m \u001b[39m@six\u001b[39m\u001b[39m.\u001b[39mwraps(f)\n\u001b[0;32m     55\u001b[0m \u001b[39mdef\u001b[39;00m \u001b[39mwrapped_f\u001b[39m(\u001b[39m*\u001b[39margs, \u001b[39m*\u001b[39m\u001b[39m*\u001b[39mkw):\n\u001b[1;32m---> 56\u001b[0m     \u001b[39mreturn\u001b[39;00m Retrying(\u001b[39m*\u001b[39mdargs, \u001b[39m*\u001b[39m\u001b[39m*\u001b[39mdkw)\u001b[39m.\u001b[39mcall(f, \u001b[39m*\u001b[39margs, \u001b[39m*\u001b[39m\u001b[39m*\u001b[39mkw)\n",
      "File \u001b[1;32mc:\\Users\\AKSHITA RAI\\anaconda3\\lib\\site-packages\\retrying.py:266\u001b[0m, in \u001b[0;36mRetrying.call\u001b[1;34m(self, fn, *args, **kwargs)\u001b[0m\n\u001b[0;32m    263\u001b[0m \u001b[39mif\u001b[39;00m \u001b[39mself\u001b[39m\u001b[39m.\u001b[39mstop(attempt_number, delay_since_first_attempt_ms):\n\u001b[0;32m    264\u001b[0m     \u001b[39mif\u001b[39;00m \u001b[39mnot\u001b[39;00m \u001b[39mself\u001b[39m\u001b[39m.\u001b[39m_wrap_exception \u001b[39mand\u001b[39;00m attempt\u001b[39m.\u001b[39mhas_exception:\n\u001b[0;32m    265\u001b[0m         \u001b[39m# get() on an attempt with an exception should cause it to be raised, but raise just in case\u001b[39;00m\n\u001b[1;32m--> 266\u001b[0m         \u001b[39mraise\u001b[39;00m attempt\u001b[39m.\u001b[39;49mget()\n\u001b[0;32m    267\u001b[0m     \u001b[39melse\u001b[39;00m:\n\u001b[0;32m    268\u001b[0m         \u001b[39mraise\u001b[39;00m RetryError(attempt)\n",
      "File \u001b[1;32mc:\\Users\\AKSHITA RAI\\anaconda3\\lib\\site-packages\\retrying.py:301\u001b[0m, in \u001b[0;36mAttempt.get\u001b[1;34m(self, wrap_exception)\u001b[0m\n\u001b[0;32m    299\u001b[0m         \u001b[39mraise\u001b[39;00m RetryError(\u001b[39mself\u001b[39m)\n\u001b[0;32m    300\u001b[0m     \u001b[39melse\u001b[39;00m:\n\u001b[1;32m--> 301\u001b[0m         six\u001b[39m.\u001b[39;49mreraise(\u001b[39mself\u001b[39;49m\u001b[39m.\u001b[39;49mvalue[\u001b[39m0\u001b[39;49m], \u001b[39mself\u001b[39;49m\u001b[39m.\u001b[39;49mvalue[\u001b[39m1\u001b[39;49m], \u001b[39mself\u001b[39;49m\u001b[39m.\u001b[39;49mvalue[\u001b[39m2\u001b[39;49m])\n\u001b[0;32m    302\u001b[0m \u001b[39melse\u001b[39;00m:\n\u001b[0;32m    303\u001b[0m     \u001b[39mreturn\u001b[39;00m \u001b[39mself\u001b[39m\u001b[39m.\u001b[39mvalue\n",
      "File \u001b[1;32mc:\\Users\\AKSHITA RAI\\anaconda3\\lib\\site-packages\\six.py:719\u001b[0m, in \u001b[0;36mreraise\u001b[1;34m(tp, value, tb)\u001b[0m\n\u001b[0;32m    717\u001b[0m     \u001b[39mif\u001b[39;00m value\u001b[39m.\u001b[39m__traceback__ \u001b[39mis\u001b[39;00m \u001b[39mnot\u001b[39;00m tb:\n\u001b[0;32m    718\u001b[0m         \u001b[39mraise\u001b[39;00m value\u001b[39m.\u001b[39mwith_traceback(tb)\n\u001b[1;32m--> 719\u001b[0m     \u001b[39mraise\u001b[39;00m value\n\u001b[0;32m    720\u001b[0m \u001b[39mfinally\u001b[39;00m:\n\u001b[0;32m    721\u001b[0m     value \u001b[39m=\u001b[39m \u001b[39mNone\u001b[39;00m\n",
      "File \u001b[1;32mc:\\Users\\AKSHITA RAI\\anaconda3\\lib\\site-packages\\retrying.py:251\u001b[0m, in \u001b[0;36mRetrying.call\u001b[1;34m(self, fn, *args, **kwargs)\u001b[0m\n\u001b[0;32m    248\u001b[0m     \u001b[39mself\u001b[39m\u001b[39m.\u001b[39m_before_attempts(attempt_number)\n\u001b[0;32m    250\u001b[0m \u001b[39mtry\u001b[39;00m:\n\u001b[1;32m--> 251\u001b[0m     attempt \u001b[39m=\u001b[39m Attempt(fn(\u001b[39m*\u001b[39margs, \u001b[39m*\u001b[39m\u001b[39m*\u001b[39mkwargs), attempt_number, \u001b[39mFalse\u001b[39;00m)\n\u001b[0;32m    252\u001b[0m \u001b[39mexcept\u001b[39;00m:\n\u001b[0;32m    253\u001b[0m     tb \u001b[39m=\u001b[39m sys\u001b[39m.\u001b[39mexc_info()\n",
      "File \u001b[1;32mc:\\Users\\AKSHITA RAI\\anaconda3\\lib\\site-packages\\dash\\_jupyter.py:379\u001b[0m, in \u001b[0;36mJupyterDash.run_app.<locals>.wait_for_app\u001b[1;34m()\u001b[0m\n\u001b[0;32m    377\u001b[0m     \u001b[39mif\u001b[39;00m res \u001b[39m!=\u001b[39m \u001b[39m\"\u001b[39m\u001b[39mAlive\u001b[39m\u001b[39m\"\u001b[39m:\n\u001b[0;32m    378\u001b[0m         url \u001b[39m=\u001b[39m \u001b[39mf\u001b[39m\u001b[39m\"\u001b[39m\u001b[39mhttp://\u001b[39m\u001b[39m{\u001b[39;00mhost\u001b[39m}\u001b[39;00m\u001b[39m:\u001b[39m\u001b[39m{\u001b[39;00mport\u001b[39m}\u001b[39;00m\u001b[39m\"\u001b[39m\n\u001b[1;32m--> 379\u001b[0m         \u001b[39mraise\u001b[39;00m \u001b[39mOSError\u001b[39;00m(\n\u001b[0;32m    380\u001b[0m             \u001b[39mf\u001b[39m\u001b[39m\"\u001b[39m\u001b[39mAddress \u001b[39m\u001b[39m'\u001b[39m\u001b[39m{\u001b[39;00murl\u001b[39m}\u001b[39;00m\u001b[39m'\u001b[39m\u001b[39m already in use.\u001b[39m\u001b[39m\\n\u001b[39;00m\u001b[39m\"\u001b[39m\n\u001b[0;32m    381\u001b[0m             \u001b[39m\"\u001b[39m\u001b[39m    Try passing a different port to run_server.\u001b[39m\u001b[39m\"\u001b[39m\n\u001b[0;32m    382\u001b[0m         )\n\u001b[0;32m    383\u001b[0m \u001b[39mexcept\u001b[39;00m requests\u001b[39m.\u001b[39mConnectionError \u001b[39mas\u001b[39;00m err:\n\u001b[0;32m    384\u001b[0m     _get_error()\n",
      "\u001b[1;31mOSError\u001b[0m: Address 'http://127.0.0.1:8050' already in use.\n    Try passing a different port to run_server."
     ]
    }
   ],
   "source": [
    "gdp_data = pd.read_csv('gdp_cleaned.csv')\n",
    "fiscal_data = pd.read_csv('fiscal_cleaned.csv')\n",
    "\n",
    "# Filter the data for the specified countries\n",
    "countries_to_include = ['China', 'France', 'Germany', 'Italy', 'Japan', 'United Kingdom', 'United States', 'South Korea', 'Spain']\n",
    "\n",
    "gdp_data = gdp_data[gdp_data['country'].isin(countries_to_include)]\n",
    "fiscal_data = fiscal_data[fiscal_data['country'].isin(countries_to_include)]\n",
    "\n",
    "# Initialize the Dash app\n",
    "app = dash.Dash(__name__)\n",
    "\n",
    "# Create a dark theme layout\n",
    "app.layout = html.Div([\n",
    "    html.H1(\"Scatter Plot of GDP vs Fiscal Data\", style={'color': 'white'}),\n",
    "    dcc.Graph(id='scatter-plot', config={'displayModeBar': False}),\n",
    "])\n",
    "\n",
    "@app.callback(\n",
    "    Output('scatter-plot', 'figure'),\n",
    "    [Input('scatter-plot', 'relayoutData')]\n",
    ")\n",
    "def update_scatter_plot(relayoutData):\n",
    "    # Merge the two datasets if necessary\n",
    "    merged_data = pd.merge(gdp_data, fiscal_data, on='country')\n",
    "\n",
    "    # Create the scatter plot using Plotly Express\n",
    "    fig = px.scatter(merged_data, x='GDP per capita, PPP (constant 2017 international $)', y='total_fiscal', color='Country', title=\"GDP vs Fiscal Data\")\n",
    "\n",
    "    # Set a dark theme template\n",
    "    fig.update_layout(template='plotly_dark')\n",
    "\n",
    "    return fig\n",
    "\n",
    "if __name__ == '__main__':\n",
    "    app.run_server(debug=True)"
   ]
  },
  {
   "cell_type": "code",
   "execution_count": null,
   "id": "fe2dd047",
   "metadata": {},
   "outputs": [],
   "source": []
  }
 ],
 "metadata": {
  "kernelspec": {
   "display_name": "Python 3 (ipykernel)",
   "language": "python",
   "name": "python3"
  },
  "language_info": {
   "codemirror_mode": {
    "name": "ipython",
    "version": 3
   },
   "file_extension": ".py",
   "mimetype": "text/x-python",
   "name": "python",
   "nbconvert_exporter": "python",
   "pygments_lexer": "ipython3",
   "version": "3.9.12"
  }
 },
 "nbformat": 4,
 "nbformat_minor": 5
}
